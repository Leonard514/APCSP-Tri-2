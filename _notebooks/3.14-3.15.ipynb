{
 "cells": [
  {
   "cell_type": "markdown",
   "metadata": {},
   "source": [
    "<html>\n",
    "<h1 style = \"color: orange\" >Section 15 - Random Value</h1>\n",
    "</html>\n",
    "\n",
    "- toc: true \n",
    "- badges: true\n",
    "- comments: true\n"
   ]
  },
  {
   "cell_type": "markdown",
   "metadata": {},
   "source": [
    "<html>\n",
    "<body style = \"background-color: green\">\n",
    "<h3>College Board Learning Objectives</h3>\n",
    "For generating random values: \n",
    "<p>\n",
    "<ul>\n",
    "    <li>Write expressions to generate possible values</li>\n",
    "    <li>Evaluate expressions to determine the possible results</li>\n",
    "</p>\n",
    "</ul>\n",
    "</body>\n",
    "</html>"
   ]
  },
  {
   "cell_type": "markdown",
   "metadata": {},
   "source": [
    "<html>\n",
    "<h3>Essential Knowledge</h3>\n",
    "\n",
    "The exam reference sheet provides:\n",
    "\n",
    "RANDOM(a, b) - which generates and returns a random integer from a to b, inclusive. Each result is equally likely to occur. \n",
    "\n",
    "For example, random(1,3) could return 1, 2, or 3.\n",
    "</html>"
   ]
  },
  {
   "cell_type": "markdown",
   "metadata": {},
   "source": [
    "Randomization in our daily lives....\n"
   ]
  }
 ],
 "metadata": {
  "kernelspec": {
   "display_name": "Python 3.8.10 64-bit",
   "language": "python",
   "name": "python3"
  },
  "language_info": {
   "name": "python",
   "version": "3.8.10"
  },
  "orig_nbformat": 4,
  "vscode": {
   "interpreter": {
    "hash": "916dbcbb3f70747c44a77c7bcd40155683ae19c65e1c03b4aa3499c5328201f1"
   }
  }
 },
 "nbformat": 4,
 "nbformat_minor": 2
}
