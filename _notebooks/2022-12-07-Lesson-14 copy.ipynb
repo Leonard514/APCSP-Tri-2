{
 "cells": [
  {
   "cell_type": "markdown",
   "metadata": {},
   "source": [
    "# Lesson 3.14 Libraries\n",
    "- title: Lesson 3.14\n",
    "- toc: true"
   ]
  },
  {
   "cell_type": "markdown",
   "metadata": {},
   "source": [
    "<h1>Essential Knowledge<h1>"
   ]
  },
  {
   "cell_type": "markdown",
   "metadata": {},
   "source": [
    "\n",
    "- Software libraries contain procedures used in creating novel programs.\n",
    "- Existing code segments can be derived from internal or external sources: Libraries, Previously written code.\n",
    "- Libraries simplify complex programs.\n",
    "- APIs (application program interfaces) specify how procedures in libraries should behave and be utilized.\n",
    "- Documentation for APIs/Libraries are necessary to gain proper understanding into how to use them."
   ]
  },
  {
   "cell_type": "markdown",
   "metadata": {},
   "source": [
    "<h1>Vocab<h1>"
   ]
  },
  {
   "cell_type": "markdown",
   "metadata": {},
   "source": [
    "| Term | Definition |\n",
    "| ----- | -------- |\n",
    "| Documentation | Text that explains the what, how, or why of your code. |\n",
    "| Libraries | A collection of prewritten code or procedures that coders can use to maximize their efficiency |\n",
    "| Application Programming Interface | A type of software through several computers are able to communicate information amongst eachother |"
   ]
  },
  {
   "cell_type": "markdown",
   "metadata": {},
   "source": [
    "<h2>Reusing Code<h2>"
   ]
  },
  {
   "cell_type": "markdown",
   "metadata": {},
   "source": [
    "<html>\n",
    "To make maximize efficiency in novel code, it is best to use previously made procedures.\n",
    "\n",
    "For example:\n",
    "<img src=\"pexampleimg.png\" alt=\"Example\">\n",
    "\n",
    "The pre-existing procedure in this program is moveBackwards. This procedure orients the robot in the correct direction by rotating left twice, and then moving forward. The new procedure adds on, and moves the robot forward, right, then forward twice. This places the robot in it's final position.\n",
    "<html>\n"
   ]
  },
  {
   "cell_type": "markdown",
   "metadata": {},
   "source": [
    "<h2>Documentation<h2>"
   ]
  },
  {
   "cell_type": "markdown",
   "metadata": {},
   "source": [
    "The procedure is often too long to view, unlike the previous example. So in order to know how to use it, you need documention (explanation of what the procedure does)."
   ]
  },
  {
   "cell_type": "code",
   "execution_count": 1,
   "metadata": {},
   "outputs": [
    {
     "name": "stdout",
     "output_type": "stream",
     "text": [
      "The average grade is 74.4\n"
     ]
    }
   ],
   "source": [
    "def gradeAverage(num):\n",
    "    sumNums = 0\n",
    "    for t in num:\n",
    "        sumNums = sumNums + t\n",
    "\n",
    "    average = sumNums / len(num)\n",
    "    return average\n",
    "\n",
    "print(\"The average grade is\", gradeAverage([65, 70, 72, 75, 80, 73, 61, 84, 81, 83]))"
   ]
  },
  {
   "cell_type": "markdown",
   "metadata": {},
   "source": [
    "Documentation for the example above:\n",
    "The procedure gradeAverage takes a list of integer values representing the percentages in a certain class, and returns the average of those integers."
   ]
  },
  {
   "cell_type": "markdown",
   "metadata": {},
   "source": [
    "<h2>Let's Practice!<h2>"
   ]
  },
  {
   "cell_type": "markdown",
   "metadata": {},
   "source": [
    "Which of the following would be MOST useful as part of a program that determines Grade Point Average?\n",
    "1. A procedure isEqual, which takes two positive integers as input and returnes if their values are equal.\n",
    "2. A procedure calcQuotient, which takes two positive integers as input and returns their quotient.\n",
    "3. A procedure getHighGrade, which takes a list of grades as input and returns the highest value.\n",
    "4. A procedure calcStatus, which takes a positve integer credits and returns a string grade classifier (senior, junior, etc.).\n",
    "\n",
    "<details closed>\n",
    "<summary>Answer</summary>\n",
    "[2, in order to calculate a GPA, it is necessary to take sum of the letter grades' corresponding numbers, and divide them by the number of grades]\n",
    "</details>\n",
    "\n",
    "Which of the following would be LEAST useful in a program that helps choose the best restaurant within 5 miles of your location?\n",
    "1. A procedure orderReviews, which lists 10 restaurants from least to greatest based on their associated star-rating.\n",
    "2. A procedure numPeople, which outputs the name of 10 restaurants with the highest visits per month.\n",
    "3. A procedure foodItem, which lists all menu items marked vegetarian on a high rated restaurants menu.\n",
    "4. A procedure ranRest, which randomizes a list of highest rating restaurants and outputs 1 restaurant.\n",
    "\n",
    "<details closed>\n",
    "<summary>Answer</summary>\n",
    "[3, while this procedure may be useful once the restaurant is chosen, it does not help to choose the restaurant itself]\n",
    "</details>"
   ]
  },
  {
   "cell_type": "markdown",
   "metadata": {},
   "source": [
    "<h2>Libraries and APIs<h2>"
   ]
  },
  {
   "cell_type": "markdown",
   "metadata": {},
   "source": [
    "A useful example of a Library that is provided by College Board, is the APCSP Exam Reference Sheet. The sheet contains various procedures and how they should/are used.\n",
    "\n",
    "Appilcation Program Interface (API) gives specific directions for how procedures that reside in these APIs can be used. "
   ]
  }
 ],
 "metadata": {
  "kernelspec": {
   "display_name": "Python 3.10.2 64-bit",
   "language": "python",
   "name": "python3"
  },
  "language_info": {
   "codemirror_mode": {
    "name": "ipython",
    "version": 3
   },
   "file_extension": ".py",
   "mimetype": "text/x-python",
   "name": "python",
   "nbconvert_exporter": "python",
   "pygments_lexer": "ipython3",
   "version": "3.10.2"
  },
  "orig_nbformat": 4,
  "vscode": {
   "interpreter": {
    "hash": "aee8b7b246df8f9039afb4144a1f6fd8d2ca17a180786b69acc140d282b71a49"
   }
  }
 },
 "nbformat": 4,
 "nbformat_minor": 2
}
