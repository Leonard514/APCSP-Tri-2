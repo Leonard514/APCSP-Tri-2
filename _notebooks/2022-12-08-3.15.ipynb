{
 "cells": [
  {
   "attachments": {},
   "cell_type": "markdown",
   "metadata": {},
   "source": [
    "# Unit 3 Section 15 - Random Variables Part 2\n",
    "\n",
    "- toc: true "
   ]
  },
  {
   "attachments": {},
   "cell_type": "markdown",
   "metadata": {},
   "source": [
    "## Syntax\n",
    "\n",
    "In collegeboard psudo-code RANDOM(a, b) is used to generate a random integer value in the range from a to b. For example if RANDOM(1, 5) is written 1, 2, 3, 4, and 5 have the same chance to show up. In Python the random library can be imported and the min and max ranges can be set to any integer."
   ]
  },
  {
   "cell_type": "code",
   "execution_count": 104,
   "metadata": {},
   "outputs": [
    {
     "name": "stdout",
     "output_type": "stream",
     "text": [
      "-----\n",
      "93 0\n",
      "-----\n",
      "0 70\n",
      "-----\n",
      "72 70\n",
      "-----\n",
      "60 20\n",
      "-----\n",
      "67 50\n",
      "-----\n",
      "35 90\n",
      "-----\n",
      "46 10\n",
      "-----\n",
      "10 30\n",
      "-----\n",
      "37 80\n",
      "-----\n",
      "16 90\n"
     ]
    }
   ],
   "source": [
    "import random  ## The random library must be imported to use it's functions\n",
    "\n",
    "## Either randint or randrange can be used the only difference is that you can use a step function in randrange and the max value won't be inclued\n",
    "\n",
    "x = 0\n",
    "a = 0\n",
    "b = 100\n",
    "\n",
    "while x < 10:\n",
    "    print ('-----')\n",
    "    x = x + 1\n",
    "    \n",
    "    i = random.randint(a, b)\n",
    "    r = random.randrange(a, b, 10)  \n",
    "    print(i, r)"
   ]
  },
  {
   "attachments": {},
   "cell_type": "markdown",
   "metadata": {},
   "source": [
    "## randint\n",
    "\n",
    "A general way to to write this is randint(start, stop) where start is the minimum value, stop is the maximum value. And this allows you to generate a random integer from a set range and this can help you create code for things like a coin-flip, dice roll, and anything else which needs an inclusive range."
   ]
  },
  {
   "cell_type": "code",
   "execution_count": 156,
   "metadata": {},
   "outputs": [
    {
     "name": "stdout",
     "output_type": "stream",
     "text": [
      "1\n",
      "4\n",
      "1\n",
      "5\n",
      "2\n",
      "2\n",
      "6\n",
      "6\n",
      "5\n",
      "3\n"
     ]
    }
   ],
   "source": [
    "numRolls = 10\n",
    "x = 0\n",
    "while x < numRolls:\n",
    "    x = x + 1 \n",
    "    i = random.randint(1, 6)\n",
    "    print(i)"
   ]
  },
  {
   "attachments": {},
   "cell_type": "markdown",
   "metadata": {},
   "source": [
    "## randrange\n",
    "\n",
    "In general randrange can be written like randrange(start, stop, step) where start is the minimum value, stop is the maximum value (like the randint function), and step is the incriment the values can be and its default value is 1. If start = 0 and step = 5 all the values that can by outputed are 0 and multiples of 5. And if start = 2 and step = 3 the output would be 2 and a multiple of 3 plus 2."
   ]
  },
  {
   "cell_type": "code",
   "execution_count": 122,
   "metadata": {},
   "outputs": [
    {
     "name": "stdout",
     "output_type": "stream",
     "text": [
      "5\n",
      "29\n",
      "14\n",
      "17\n",
      "23\n",
      "2\n",
      "29\n",
      "8\n",
      "17\n",
      "29\n"
     ]
    }
   ],
   "source": [
    "x = 0\n",
    "while x < 10:\n",
    "    x = x + 1\n",
    "    \n",
    "    r = random.randrange(2, 30, 3)  \n",
    "    print(r)"
   ]
  },
  {
   "attachments": {},
   "cell_type": "markdown",
   "metadata": {},
   "source": [
    "For the outputs above (except 2) if you were to subtract 2 from them you would get a multiple of 3."
   ]
  },
  {
   "attachments": {},
   "cell_type": "markdown",
   "metadata": {},
   "source": [
    "## Practice"
   ]
  },
  {
   "attachments": {},
   "cell_type": "markdown",
   "metadata": {},
   "source": [
    "A person is playing a game of darts.\n",
    "\n",
    "This incomplete code segment simulates the person throwing a dart:"
   ]
  },
  {
   "cell_type": "raw",
   "metadata": {},
   "source": [
    "IF (<MISSING CONDITION>)\n",
    "{\n",
    "    shotMade ← true\n",
    "    DISPLAY(\"Score!\")\n",
    "}\n",
    "ELSE \n",
    "{\n",
    "    DISPLAY(\"Miss!\")\n",
    "}"
   ]
  },
  {
   "attachments": {},
   "cell_type": "markdown",
   "metadata": {},
   "source": [
    "Which of these can replace MISSING CONDITION so that the has a 75% chance of making the shot? (There are TWO answers!)\n",
    "\n",
    "1. RANDOM(1, 100) <= 75\n",
    "2. RANDOM(1, 100) < 75\n",
    "3. RANDOM(1, 4) < 3\n",
    "4. RANDOM(1, 4) <= 3\n",
    "\n",
    "<details closed>\n",
    "<summary>Answer</summary>\n",
    "1 and 4 are both correct, 1 includes the values from 1-75 which means that it has a 75% chance to be chosen and 4 includes the values of 1, 2, and 3 which makes 3/4 which is the same as a 75% chance.\n",
    "</details>\n",
    "\n",
    "There is a 3x3 grid which randomly generates a point based on the following code:"
   ]
  },
  {
   "cell_type": "raw",
   "metadata": {},
   "source": [
    "row ← RANDOM(1, 3)\n",
    "column ← RANDOM(1, 2)\n",
    "POINT(row, column)"
   ]
  },
  {
   "attachments": {},
   "cell_type": "markdown",
   "metadata": {},
   "source": [
    "What are the possible locations a point can be? (X is the location of the point)\n",
    "\n",
    "1. \n",
    "<table>\n",
    "  <tr>\n",
    "    <td>x</td>\n",
    "    <td>x</td>\n",
    "    <td>-</td>\n",
    "  </tr>\n",
    "  <tr>\n",
    "    <td>x</td>\n",
    "    <td>x</td>\n",
    "    <td>-</td>\n",
    "  </tr>\n",
    "  <tr>\n",
    "    <td>-</td>\n",
    "    <td>-</td>\n",
    "    <td>-</td>\n",
    "  </tr>\n",
    "</table>\n",
    "\n",
    "2. \n",
    "<table>\n",
    "  <tr>\n",
    "    <td>x</td>\n",
    "    <td>x</td>\n",
    "    <td>x</td>\n",
    "  </tr>\n",
    "  <tr>\n",
    "    <td>x</td>\n",
    "    <td>x</td>\n",
    "    <td>x</td>\n",
    "  </tr>\n",
    "  <tr>\n",
    "    <td>-</td>\n",
    "    <td>-</td>\n",
    "    <td>-</td>\n",
    "  </tr>\n",
    "</table>\n",
    "\n",
    "3. \n",
    "<table>\n",
    "  <tr>\n",
    "    <td>x</td>\n",
    "    <td>x</td>\n",
    "    <td>-</td>\n",
    "  </tr>\n",
    "  <tr>\n",
    "    <td>x</td>\n",
    "    <td>x</td>\n",
    "    <td>-</td>\n",
    "  </tr>\n",
    "  <tr>\n",
    "    <td>x</td>\n",
    "    <td>x</td>\n",
    "    <td>-</td>\n",
    "  </tr>\n",
    "</table>\n",
    "\n",
    "4. \n",
    "<table>\n",
    "  <tr>\n",
    "    <td>x</td>\n",
    "    <td>x</td>\n",
    "    <td>x</td>\n",
    "  </tr>\n",
    "  <tr>\n",
    "    <td>x</td>\n",
    "    <td>x</td>\n",
    "    <td>x</td>\n",
    "  </tr>\n",
    "  <tr>\n",
    "    <td>x</td>\n",
    "    <td>x</td>\n",
    "    <td>x</td>\n",
    "  </tr>\n",
    "</table>\n",
    "\n",
    "<details closed>\n",
    "<summary>Answer</summary>\n",
    "3 is correct since the rows 1, 2, and 3 have a chance to get picked and column 1 and 2 have a chance to get picked.\n",
    "</details>"
   ]
  }
 ],
 "metadata": {
  "kernelspec": {
   "display_name": "base",
   "language": "python",
   "name": "python3"
  },
  "language_info": {
   "codemirror_mode": {
    "name": "ipython",
    "version": 3
   },
   "file_extension": ".py",
   "mimetype": "text/x-python",
   "name": "python",
   "nbconvert_exporter": "python",
   "pygments_lexer": "ipython3",
   "version": "3.9.12"
  },
  "orig_nbformat": 4,
  "vscode": {
   "interpreter": {
    "hash": "61a57a4b5406d2de388e2f91097d4e4bcd7d5f4a46f53a795aa28a02eed27fc5"
   }
  }
 },
 "nbformat": 4,
 "nbformat_minor": 2
}
