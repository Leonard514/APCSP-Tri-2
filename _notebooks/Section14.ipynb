{
 "cells": [
  {
   "cell_type": "markdown",
   "metadata": {},
   "source": [
    "# Lesson 3.14 Libraries\n",
    "- categories: [Lessons]\n",
    "- title: Lesson 3.14\n",
    "- toc: true"
   ]
  },
  {
   "cell_type": "markdown",
   "metadata": {},
   "source": [
    "<h1>Essential Knowledge<h1>\n",
    "- Software libraries contain procedures used in creating novel programs.\n",
    "- Existing code segments can be derived from internal or external sources: Libraries, Previously written code.\n",
    "- Libraries simplify complex programs.\n",
    "- APIs (application program interfaces) specify how procedures in libraries should behave and be utilized.\n",
    "- Documentation for APIs/Libraries are necessary to gain proper understanding into how to use them."
   ]
  },
  {
   "cell_type": "markdown",
   "metadata": {},
   "source": [
    "<h1>Vocab<h1>"
   ]
  },
  {
   "cell_type": "markdown",
   "metadata": {},
   "source": [
    "<h1>Reusing Code<h1>\n",
    "To make maximize efficiency in novel code, it is best to use previously made procedures.\n",
    "\n",
    "For example:\n",
    "*insert images*\n",
    "\n",
    "The pre-existing procedure in this program is moveBackwards. This procedure orients the robot in the correct direction by rotating left twice, and then moving forward. The new procedure adds on, and moves the robot forward, right, then forward twice. This places the robot in it's final position.\n"
   ]
  },
  {
   "cell_type": "markdown",
   "metadata": {},
   "source": [
    "<h1>Documentation<h1>\n",
    "\n",
    "The procedure is often too long to view, unlike the previous example."
   ]
  },
  {
   "cell_type": "code",
   "execution_count": null,
   "metadata": {},
   "outputs": [],
   "source": []
  }
 ],
 "metadata": {
  "kernelspec": {
   "display_name": "Python 3",
   "language": "python",
   "name": "python3"
  },
  "language_info": {
   "name": "python",
   "version": "3.8.10 (default, Jun 22 2022, 20:18:18) \n[GCC 9.4.0]"
  },
  "orig_nbformat": 4,
  "vscode": {
   "interpreter": {
    "hash": "916dbcbb3f70747c44a77c7bcd40155683ae19c65e1c03b4aa3499c5328201f1"
   }
  }
 },
 "nbformat": 4,
 "nbformat_minor": 2
}
